{
 "cells": [
  {
   "cell_type": "markdown",
   "id": "d78d50d7",
   "metadata": {},
   "source": [
    "# Data Science Tools and Ecosystem"
   ]
  },
  {
   "cell_type": "markdown",
   "id": "b44d9609",
   "metadata": {},
   "source": [
    "In this notebook, Data Science Tools and Ecosystem are summarized."
   ]
  },
  {
   "cell_type": "markdown",
   "id": "ac5f77a7",
   "metadata": {},
   "source": [
    "**Objectives**\n",
    "- List of popular languages in Data Science\n",
    "- List of commonly used Data Science libraries\n",
    "- Tabular list of Data Science tools\n",
    "- Evaluating arithmethic expressions in Python"
   ]
  },
  {
   "cell_type": "markdown",
   "id": "f01d26ea",
   "metadata": {},
   "source": [
    "Some of the popular languages that Data Scientists use are:\n",
    "1. Python\n",
    "2. Java    \n",
    "3. C++"
   ]
  },
  {
   "cell_type": "markdown",
   "id": "7dda3c7f",
   "metadata": {},
   "source": [
    "Some of the commonly used libraries used by Data Scientists include:\n",
    "1. Scientific computing libraries in python (pandas, Numpy)\n",
    "2. Visualization libraries in python (Matplotlib, seaborn)\n",
    "3. High-level-machine learning and deep learning (Scikit, Keras)"
   ]
  },
  {
   "cell_type": "markdown",
   "id": "b6b9aa24",
   "metadata": {},
   "source": [
    "|Data Science Tools|\n",
    "|------------------|\n",
    "|Seldon|\n",
    "|Apache predictionIO|\n",
    "|TensorFlow|"
   ]
  },
  {
   "cell_type": "markdown",
   "id": "ad858017",
   "metadata": {},
   "source": [
    "### Below are a few examples of evaluating arithmetic expressions in Python\n"
   ]
  },
  {
   "cell_type": "code",
   "execution_count": 1,
   "id": "aaeae68b",
   "metadata": {},
   "outputs": [
    {
     "data": {
      "text/plain": [
       "17"
      ]
     },
     "execution_count": 1,
     "metadata": {},
     "output_type": "execute_result"
    }
   ],
   "source": [
    "#This a simple arithmetic expression to mutiply then add integers\n",
    "(3*4)+5"
   ]
  },
  {
   "cell_type": "code",
   "execution_count": 2,
   "id": "23c65bbc",
   "metadata": {},
   "outputs": [
    {
     "data": {
      "text/plain": [
       "3.3333333333333335"
      ]
     },
     "execution_count": 2,
     "metadata": {},
     "output_type": "execute_result"
    }
   ],
   "source": [
    "#This will convert 200 minutes to hours by diving by 60\n",
    "200/60 "
   ]
  },
  {
   "cell_type": "markdown",
   "id": "b9a8b341",
   "metadata": {},
   "source": [
    "## Author\n",
    "Paul Adamu"
   ]
  },
  {
   "cell_type": "code",
   "execution_count": null,
   "id": "c3aae39b",
   "metadata": {},
   "outputs": [],
   "source": []
  }
 ],
 "metadata": {
  "kernelspec": {
   "display_name": "Python 3 (ipykernel)",
   "language": "python",
   "name": "python3"
  },
  "language_info": {
   "codemirror_mode": {
    "name": "ipython",
    "version": 3
   },
   "file_extension": ".py",
   "mimetype": "text/x-python",
   "name": "python",
   "nbconvert_exporter": "python",
   "pygments_lexer": "ipython3",
   "version": "3.10.9"
  }
 },
 "nbformat": 4,
 "nbformat_minor": 5
}
